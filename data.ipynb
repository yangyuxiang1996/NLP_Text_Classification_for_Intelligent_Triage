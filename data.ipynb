{
 "cells": [
  {
   "cell_type": "code",
   "execution_count": 1,
   "source": [
    "import pandas as pd\n",
    "\n",
    "train_path = \"file/HospitalDataSet1/data_cat10_annotated_train.txt\"\n",
    "eval_path = \"file/HospitalDataSet1/data_cat10_annotated_eval.txt\"\n",
    "test_path = \"file/HospitalDataSet1/data_cat10_annotated_test.txt\"\n",
    "train_output = \"file/train.json\"\n",
    "eval_output = \"file/eval.json\"\n",
    "test_output = \"file/test.json\""
   ],
   "outputs": [],
   "metadata": {}
  },
  {
   "cell_type": "code",
   "execution_count": 2,
   "source": [
    "import ml.config as config\n",
    "import json\n",
    "\n",
    "id2label = {}\n",
    "with open('file/id2label.txt', 'r') as txt:\n",
    "    for line in txt:\n",
    "        ID, label = line.strip().split(' ')\n",
    "        id2label[ID] = label\n",
    "\n",
    "print(id2label)\n",
    "with open('file/id2label.json', 'w') as f:\n",
    "    json.dump(id2label, f, ensure_ascii=False, indent = 2)\n",
    "\n",
    "label2id = {v:k for k, v in id2label.items()}\n",
    "print(label2id)\n",
    "with open('file/label2id.json', 'w') as f:\n",
    "    json.dump(label2id, f, ensure_ascii=False, indent = 2)"
   ],
   "outputs": [
    {
     "output_type": "stream",
     "name": "stdout",
     "text": [
      "{'1': '男科', '2': '皮肤科', '3': '其它', '4': '妇科', '5': '心血管内科', '6': '耳鼻喉科', '7': '消化内科', '8': '小儿内科', '9': '呼吸内科', '10': '内分泌科', '11': '神经内科'}\n",
      "{'男科': '1', '皮肤科': '2', '其它': '3', '妇科': '4', '心血管内科': '5', '耳鼻喉科': '6', '消化内科': '7', '小儿内科': '8', '呼吸内科': '9', '内分泌科': '10', '神经内科': '11'}\n"
     ]
    }
   ],
   "metadata": {}
  },
  {
   "cell_type": "code",
   "execution_count": 5,
   "source": [
    "def get_data(in_path, output_path):\n",
    "    data = {}\n",
    "    with open(in_path, \"r\") as f:\n",
    "        for i, line in enumerate(f.readlines()):\n",
    "            line = line.strip()\n",
    "            line = line.split(\"\\t\")\n",
    "            if i < 2:\n",
    "                print(line)\n",
    "            if len(line) != 2:\n",
    "                continue\n",
    "            label, text = line[0], line[1]\n",
    "            if label not in data:\n",
    "                data[label] = []\n",
    "            data[label].append(text)\n",
    "    for key in data.keys():\n",
    "        print(\"label: %s, num: %d\" % (id2label[key], len(data[key])))\n",
    "    with open(output_path, mode=\"w\", encoding=\"utf-8\") as f:\n",
    "        json.dump(data, f, ensure_ascii=False, indent=4)"
   ],
   "outputs": [],
   "metadata": {}
  },
  {
   "cell_type": "code",
   "execution_count": 6,
   "source": [
    "get_data(train_path, train_output)\n",
    "get_data(eval_path, eval_output)\n",
    "get_data(test_path, test_output)"
   ],
   "outputs": [
    {
     "output_type": "stream",
     "name": "stdout",
     "text": [
      "['5', '勃起 困难 一年 前 前列腺炎 住院 治疗 || 万艾可 能 给开 么']\n",
      "['8', '四 个 半月 || 女 || 婴儿 || 体重 NUM 斤 || 之前 晚上 夜醒 一 到 两 次 吃奶 || 最近 晚上 频繁 夜醒 || 醒 了 大哭 || 抱 着 睡着 还 放 不下 || 孩子 舌苔 从 出生到现在 一直 很 厚 || 颜色 偏 黄白 || 大便 一天 一 到 两 次 无 奶瓣 、 泡沫 、 气味 偏臭 、 黄色 粘稠 状 || 全 母乳 喂养 || 一般 三 个 小时 左右 喂养 一次 || 白天 睡觉 也 爱哭 || 哭 了 不 醒']\n",
      "label: 心血管内科, num: 1195\n",
      "label: 小儿内科, num: 2050\n",
      "label: 其它, num: 2916\n",
      "label: 男科, num: 10613\n",
      "label: 妇科, num: 1305\n",
      "label: 耳鼻喉科, num: 912\n",
      "label: 呼吸内科, num: 2443\n",
      "label: 消化内科, num: 1501\n",
      "label: 内分泌科, num: 1144\n",
      "label: 神经内科, num: 1191\n",
      "label: 皮肤科, num: 3103\n",
      "['5', '大夫 我 爸 三 个 月 前 做 了 心 胀 支架 手术 || 手术 过程 中 支架 部位 出血 心 包 积液 （ 中量 ） 后 穿刺 抽 出去 血 || 住院 八 天 后 回家 调理 || 今天 三 个 多 月 来 附属 医院 做 心 彩超 结果 || 麻烦 大夫 给 看 一下']\n",
      "['10', '本人 现 吃药 NUM 年 || 二甲双胍 缓释 片 早晚 各 NUM 片 || 血糖 NUM-NUM 左右 || 体重 NUM 公斤 || 身高 NUM . 今天 去 看 医生 || 医生 建议 加沙格列叮片 每天 早上 一片']\n",
      "label: 心血管内科, num: 67\n",
      "label: 内分泌科, num: 63\n",
      "label: 呼吸内科, num: 137\n",
      "label: 男科, num: 591\n",
      "label: 皮肤科, num: 173\n",
      "label: 神经内科, num: 66\n",
      "label: 消化内科, num: 84\n",
      "label: 妇科, num: 72\n",
      "label: 其它, num: 162\n",
      "label: 小儿内科, num: 114\n",
      "label: 耳鼻喉科, num: 51\n",
      "['7', '我 有 经常 有 胃炎 || 现在 还有 口腔溃疡 || 胃口 有些 段 时间 还 不好 || 我 怀疑 我 有 螺旋 杆菌 || 之前 也 问 过 你 || 能 给 我 下面 图片 里面 的 药开 个 处方 吗']\n",
      "['11', '李主任 || 我 父亲 吃 德巴金 快 一个 月 了 || 最近 几 天 精神 不是 很 好 || 而且 下午 迷迷糊糊 总是 睡觉 || 胃口 也 不是 很 好 || 和 吃 德巴金 这个 药有 没有 关联']\n",
      "label: 消化内科, num: 83\n",
      "label: 神经内科, num: 67\n",
      "label: 心血管内科, num: 66\n",
      "label: 皮肤科, num: 172\n",
      "label: 男科, num: 591\n",
      "label: 内分泌科, num: 64\n",
      "label: 小儿内科, num: 114\n",
      "label: 其它, num: 163\n",
      "label: 呼吸内科, num: 136\n",
      "label: 耳鼻喉科, num: 51\n",
      "label: 妇科, num: 73\n"
     ]
    }
   ],
   "metadata": {}
  },
  {
   "cell_type": "code",
   "execution_count": 8,
   "source": [
    "def data_to_csv(filepath):\n",
    "    samples = []\n",
    "    nanke = 0\n",
    "    with open(filepath, 'r') as txt:\n",
    "        for line in txt:\n",
    "            ID, text = line.strip().split('\\t')\n",
    "            text = text.replace(\"||\", \"\")\n",
    "            label = id2label[ID]\n",
    "            if label == \"男科\":\n",
    "                if nanke >= 2000:\n",
    "                    continue\n",
    "                else:\n",
    "                    nanke += 1\n",
    "            sample = label+'\\t'+text\n",
    "            samples.append(sample)\n",
    "\n",
    "    outfile = config.train_data_file\n",
    "    if 'eval' in filepath:\n",
    "        outfile = config.eval_data_file\n",
    "    if 'test' in filepath:\n",
    "        outfile = config.test_data_file\n",
    "\n",
    "    with open(outfile, 'w') as csv:\n",
    "        csv.write('label\\ttext\\n')\n",
    "        for sample in samples:\n",
    "            csv.write(sample)\n",
    "            csv.write('\\n')\n",
    "\n",
    "    if 'train' in filepath:\n",
    "        print(\"训练数据：%s\" % str(len(samples)))\n",
    "    elif 'test' in filepath:\n",
    "        print(\"测试数据：%s\" % str(len(samples)))\n",
    "    else:\n",
    "        print(\"验证数据：%s\" % str(len(samples)))\n"
   ],
   "outputs": [],
   "metadata": {}
  },
  {
   "cell_type": "code",
   "execution_count": 9,
   "source": [
    "data_to_csv(config.train_raw_file)\n",
    "data_to_csv(config.eval_raw_file)\n",
    "data_to_csv(config.test_raw_file)"
   ],
   "outputs": [
    {
     "output_type": "stream",
     "name": "stdout",
     "text": [
      "训练数据：28373\n",
      "验证数据：1580\n",
      "测试数据：1580\n"
     ]
    }
   ],
   "metadata": {}
  },
  {
   "cell_type": "code",
   "execution_count": null,
   "source": [],
   "outputs": [],
   "metadata": {}
  }
 ],
 "metadata": {
  "orig_nbformat": 4,
  "language_info": {
   "name": "python",
   "version": "3.8.8",
   "mimetype": "text/x-python",
   "codemirror_mode": {
    "name": "ipython",
    "version": 3
   },
   "pygments_lexer": "ipython3",
   "nbconvert_exporter": "python",
   "file_extension": ".py"
  },
  "kernelspec": {
   "name": "python3",
   "display_name": "Python 3.8.8 64-bit ('base': conda)"
  },
  "interpreter": {
   "hash": "e134e05457d34029b6460cd73bbf1ed73f339b5b6d98c95be70b69eba114fe95"
  }
 },
 "nbformat": 4,
 "nbformat_minor": 2
}